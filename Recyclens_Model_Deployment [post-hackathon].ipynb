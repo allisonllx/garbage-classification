{
  "cells": [
    {
      "cell_type": "code",
      "execution_count": 1,
      "metadata": {
        "id": "IQKWCrq3im2K"
      },
      "outputs": [],
      "source": [
        "import numpy as np\n",
        "import tensorflow as tf\n",
        "import cv2\n",
        "import matplotlib.pyplot as plt\n",
        "import matplotlib.image as mpimg"
      ]
    },
    {
      "cell_type": "code",
      "execution_count": 2,
      "metadata": {
        "colab": {
          "base_uri": "https://localhost:8080/"
        },
        "id": "8xkETi9jpo68",
        "outputId": "884c5ee2-f01e-41ee-a6dc-969fd7dfdcfc"
      },
      "outputs": [
        {
          "output_type": "stream",
          "name": "stdout",
          "text": [
            "Mounted at /content/drive\n"
          ]
        }
      ],
      "source": [
        "from google.colab import drive\n",
        "drive.mount('/content/drive')"
      ]
    },
    {
      "cell_type": "code",
      "execution_count": 4,
      "metadata": {
        "id": "8dtCP7vllOM8"
      },
      "outputs": [],
      "source": [
        "# Load the TFLite model and allocate tensors.\n",
        "interpreter = tf.lite.Interpreter(model_path=\"/content/drive/MyDrive/recycling_model_final.tflite\")\n",
        "interpreter.allocate_tensors()\n",
        "\n",
        "# Get input and output tensors.\n",
        "input_details = interpreter.get_input_details()\n",
        "output_details = interpreter.get_output_details()"
      ]
    },
    {
      "cell_type": "code",
      "execution_count": 5,
      "metadata": {
        "id": "58jrdd9Dmwpi"
      },
      "outputs": [],
      "source": [
        "camera_port = 0\n",
        "ramp_frames = 30\n",
        "import time"
      ]
    },
    {
      "cell_type": "code",
      "execution_count": 6,
      "metadata": {
        "id": "dnCRca9crXro"
      },
      "outputs": [],
      "source": [
        "from IPython.display import display, Javascript\n",
        "from google.colab.output import eval_js\n",
        "from base64 import b64decode\n",
        "\n",
        "def take_photo(filename='photo.jpg', quality=0.8):\n",
        "  js = Javascript('''\n",
        "    async function takePhoto(quality) {\n",
        "      const div = document.createElement('div');\n",
        "      const capture = document.createElement('button');\n",
        "      capture.textContent = 'Capture';\n",
        "      div.appendChild(capture);\n",
        "\n",
        "      const video = document.createElement('video');\n",
        "      video.style.display = 'block';\n",
        "      const stream = await navigator.mediaDevices.getUserMedia({video: true});\n",
        "\n",
        "      document.body.appendChild(div);\n",
        "      div.appendChild(video);\n",
        "      video.srcObject = stream;\n",
        "      await video.play();\n",
        "\n",
        "      // Resize the output to fit the video element.\n",
        "      google.colab.output.setIframeHeight(document.documentElement.scrollHeight, true);\n",
        "\n",
        "      // Wait for Capture to be clicked.\n",
        "      await new Promise((resolve) => capture.onclick = resolve);\n",
        "\n",
        "      const canvas = document.createElement('canvas');\n",
        "      canvas.width = video.videoWidth;\n",
        "      canvas.height = video.videoHeight;\n",
        "      canvas.getContext('2d').drawImage(video, 0, 0);\n",
        "      stream.getVideoTracks()[0].stop();\n",
        "      div.remove();\n",
        "      return canvas.toDataURL('image/jpeg', quality);\n",
        "    }\n",
        "    ''')\n",
        "  display(js)\n",
        "  data = eval_js('takePhoto({})'.format(quality))\n",
        "  binary = b64decode(data.split(',')[1])\n",
        "  with open(filename, 'wb') as f:\n",
        "    f.write(binary)\n",
        "  return filename"
      ]
    },
    {
      "cell_type": "code",
      "execution_count": 8,
      "metadata": {
        "id": "kqzYlxKyrwvt"
      },
      "outputs": [],
      "source": [
        "from IPython.display import Image\n",
        "from google.colab.patches import cv2_imshow\n",
        "from PIL import Image as Img"
      ]
    },
    {
      "cell_type": "code",
      "execution_count": 9,
      "metadata": {
        "id": "-3YFic79vtaz"
      },
      "outputs": [],
      "source": [
        "classes = {\n",
        "    0: 'aluminium foil',\n",
        "    1: 'biological',\n",
        "    2: 'book',\n",
        "    3: 'brown glass',\n",
        "    4: 'cardboard',\n",
        "    5: 'clear glass',\n",
        "    6: 'clothes',\n",
        "    7: 'e-waste',\n",
        "    8: 'green glass',\n",
        "    9: 'metal',\n",
        "    10: 'paper',\n",
        "    11: 'plastic',\n",
        "    12: 'shoes',\n",
        "    13: 'trash'\n",
        "}"
      ]
    },
    {
      "cell_type": "code",
      "execution_count": null,
      "metadata": {
        "id": "jYDzyM6Bmqkw"
      },
      "outputs": [],
      "source": [
        "while True:\n",
        "    print(\"starting\")\n",
        "    try:\n",
        "      filename = take_photo()\n",
        "      print(\"picture taken\")\n",
        "      print('Saved to {}'.format(filename))\n",
        "    \n",
        "      # Show the image which was just taken.\n",
        "      display(Image(filename))\n",
        "\n",
        "      image_path = filename\n",
        "      img = cv2.imread(filename, cv2.IMREAD_UNCHANGED)\n",
        "      #cv2_imshow(img)\n",
        "\n",
        "      img = tf.keras.preprocessing.image.array_to_img(img)\n",
        "      img = img.resize((300,300), Img.ANTIALIAS)\n",
        "\n",
        "      input_shape = input_details[0]['shape']\n",
        "      input_tensor = np.array(np.expand_dims(img,0))\n",
        "\n",
        "      input_index = interpreter.get_input_details()[0][\"index\"]\n",
        "      interpreter.set_tensor(input_index, input_tensor)\n",
        "      interpreter.invoke()\n",
        "      output_details = interpreter.get_output_details()\n",
        "\n",
        "      output_data = interpreter.get_tensor(output_details[0]['index'])\n",
        "      pred = np.squeeze(output_data)\n",
        "\n",
        "      highest_pred_loc = np.argmax(pred)\n",
        "      print(classes[highest_pred_loc])\n",
        "\n",
        "      time.sleep(2)\n",
        "\n",
        "    except Exception as err:\n",
        "      # Errors will be thrown if the user does not have a webcam or if they do not\n",
        "      # grant the page permission to access it.\n",
        "      print(str(err))"
      ]
    },
    {
      "cell_type": "markdown",
      "metadata": {
        "id": "DKP9Ey8kvBFu"
      },
      "source": []
    }
  ],
  "metadata": {
    "colab": {
      "collapsed_sections": [],
      "provenance": []
    },
    "kernelspec": {
      "display_name": "Python 3",
      "name": "python3"
    },
    "language_info": {
      "name": "python"
    }
  },
  "nbformat": 4,
  "nbformat_minor": 0
}
